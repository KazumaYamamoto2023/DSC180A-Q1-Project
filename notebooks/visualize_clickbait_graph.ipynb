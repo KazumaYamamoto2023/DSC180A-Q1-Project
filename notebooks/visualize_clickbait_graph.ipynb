{
 "cells": [
  {
   "cell_type": "code",
   "execution_count": 2,
   "metadata": {},
   "outputs": [],
   "source": [
    "from matplotlib import pylab\n",
    "import matplotlib.pyplot as plt\n",
    "import networkx as nx\n",
    "import scipy as sp\n",
    "import scipy.sparse\n",
    "import pickle"
   ]
  },
  {
   "cell_type": "code",
   "execution_count": 23,
   "id": "b5491ba9",
   "metadata": {},
   "outputs": [],
   "source": [
    "def load_graph(fp):\n",
    "    \"\"\"\n",
    "    Returns a networkx graph from a scipy sparce\n",
    "    adjacency matrix at the provided filepath.\n",
    "    \"\"\"\n",
    "    # load adjacency matrix of clickbait nodes/neighbors\n",
    "    adj = pickle.load(open(fp, 'rb'))\n",
    "\n",
    "    # create graph from adjacency matrix\n",
    "    graph = nx.from_scipy_sparse_matrix(adj, create_using=nx.MultiGraph)\n",
    "    return graph\n",
    "\n",
    "def plot_graph(graph, file_name):\n",
    "    \"\"\"\n",
    "    Plots networkx graph and saves to pdf\n",
    "    \"\"\"\n",
    "    plt.figure(num=None, figsize=(20, 20), dpi=80)\n",
    "    plt.axis('off')\n",
    "    fig = plt.figure(1)\n",
    "    pos = nx.random_layout(graph)\n",
    "    print('Step 1: Drawing Nodes')\n",
    "    nx.draw_networkx_nodes(graph,pos)\n",
    "    print('Step 2: Drawing Edges')\n",
    "    nx.draw_networkx_edges(graph,pos)\n",
    "    print('Step 3: Drawing Labels')\n",
    "    nx.draw_networkx_labels(graph,pos)\n",
    "\n",
    "    cut = 1.00\n",
    "    xmax = cut * max(xx for xx, yy in pos.values())\n",
    "    ymax = cut * max(yy for xx, yy in pos.values())\n",
    "    plt.xlim(0, xmax)\n",
    "    plt.ylim(0, ymax)\n",
    "\n",
    "    plt.savefig(file_name,bbox_inches=\"tight\")\n",
    "    pylab.close()\n",
    "    del fig"
   ]
  },
  {
   "cell_type": "code",
   "execution_count": 24,
   "metadata": {},
   "outputs": [
    {
     "name": "stdout",
     "output_type": "stream",
     "text": [
      "Step 1: Drawing Nodes\n",
      "Step 2: Drawing Edges\n",
      "Step 3: Drawing Labels\n"
     ]
    }
   ],
   "source": [
    "# input/output filepaths\n",
    "fp_in = '/Users/stephengelinas/DSC180A-Q1-Project/data/output/ind.clickbait.adj'\n",
    "fp_out = \"/Users/stephengelinas/DSC180A-Q1-Project/data/visualizations/graph.pdf\"\n",
    "\n",
    "# load and plot graph\n",
    "G = load_graph(fp_in)\n",
    "plot_graph(G, fp_out)"
   ]
  },
  {
   "cell_type": "code",
   "execution_count": null,
   "metadata": {},
   "outputs": [],
   "source": []
  }
 ],
 "metadata": {
  "kernelspec": {
   "display_name": "Python 3.6.15 ('test_env')",
   "language": "python",
   "name": "python3"
  },
  "language_info": {
   "codemirror_mode": {
    "name": "ipython",
    "version": 3
   },
   "file_extension": ".py",
   "mimetype": "text/x-python",
   "name": "python",
   "nbconvert_exporter": "python",
   "pygments_lexer": "ipython3",
   "version": "3.6.15"
  },
  "vscode": {
   "interpreter": {
    "hash": "c0f44f62e573cea88b6a9cab083f0e4138e145194b4edc39d4088f7de387635d"
   }
  }
 },
 "nbformat": 4,
 "nbformat_minor": 5
}
