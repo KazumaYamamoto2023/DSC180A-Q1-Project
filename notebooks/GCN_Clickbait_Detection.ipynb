{
 "cells": [
  {
   "cell_type": "markdown",
   "metadata": {},
   "source": [
    "# Graph Convolutional Networks for Clickbait Detection"
   ]
  },
  {
   "cell_type": "markdown",
   "metadata": {},
   "source": [
    "Authors: Stephen Gelinas, Kazuma Yamamoto, Ethan Zhou\\\n",
    "Notebook Adapted From: Parker Erickson https://colab.research.google.com/drive/11tcL4KXXwY__TmUUTjOf6InFQMC-VsG6#scrollTo=_BNqh7fz0486 \\\n",
    "Pytorch Implementation of Text-GCN: https://github.com/iworldtong/text_gcn.pytorch, https://github.com/codeKgu/Text-GCN"
   ]
  },
  {
   "cell_type": "markdown",
   "metadata": {},
   "source": [
    "## 1.1 Imports"
   ]
  },
  {
   "cell_type": "code",
   "execution_count": 2,
   "metadata": {},
   "outputs": [],
   "source": [
    "# import dependencies\n",
    "import sys\n",
    "import os\n",
    "import time\n",
    "import spacy\n",
    "import json\n",
    "import torch\n",
    "import torch.nn as nn\n",
    "import torch.nn.functional as F\n",
    "import torchtext.legacy.data as ttd\n",
    "import pyTigerGraph as tg\n",
    "import numpy as np\n",
    "import pandas as pd\n",
    "import matplotlib.pyplot as plt\n",
    "import scipy.sparse as sp\n",
    "from sklearn import metrics\n",
    "\n",
    "# import helper functions\n",
    "os.chdir('../src/')\n",
    "from utils import load_corpus\n",
    "from torch_helpers import *\n",
    "\n",
    "# import tigergraph config\n",
    "os.chdir('../config/')\n",
    "with open('tigergraph.json', 'r') as f:\n",
    "    config = json.load(f)\n",
    "\n",
    "# ignore warnings\n",
    "import warnings\n",
    "warnings.filterwarnings('ignore')"
   ]
  },
  {
   "cell_type": "markdown",
   "metadata": {},
   "source": [
    "## 1.2 Configuration"
   ]
  },
  {
   "cell_type": "markdown",
   "metadata": {},
   "source": [
    "Here we define some variables, such as the number of epochs of training (usually only need 30 or less for a 2-layer GCN), the learning rate, and threshold for early stopping."
   ]
  },
  {
   "cell_type": "code",
   "execution_count": 3,
   "metadata": {},
   "outputs": [],
   "source": [
    "n_epochs = 50\n",
    "learningRate = 0.02\n",
    "early_stopping = 10"
   ]
  },
  {
   "cell_type": "markdown",
   "metadata": {},
   "source": [
    "## 2.1 Creating Database Connection"
   ]
  },
  {
   "cell_type": "markdown",
   "metadata": {},
   "source": [
    "This section instantiates a connection to the TigerGraph database."
   ]
  },
  {
   "cell_type": "code",
   "execution_count": 4,
   "metadata": {},
   "outputs": [
    {
     "name": "stdout",
     "output_type": "stream",
     "text": [
      "------------------------------------------------------------------------------\n",
      "The graph has 402787 edges and 44543 verticies.\n",
      "Edges have a maximum weight of 121, minimum weight of 0.00025, and average weight of 3.67229.\n",
      "------------------------------------------------------------------------------\n",
      "Graph Schema: {'GraphName': 'test1', 'VertexTypes': [{'Config': {'STATS': 'OUTDEGREE_BY_EDGETYPE'}, 'IsLocal': True, 'Attributes': [{'AttributeType': {'Name': 'STRING'}, 'AttributeName': 'clickbait'}], 'PrimaryId': {'AttributeType': {'Name': 'STRING'}, 'AttributeName': 'id'}, 'Name': 'word'}], 'EdgeTypes': [{'IsDirected': False, 'ToVertexTypeName': 'word', 'Config': {}, 'IsLocal': True, 'Attributes': [{'AttributeType': {'Name': 'FLOAT'}, 'AttributeName': 'value'}], 'FromVertexTypeName': 'word', 'Name': 'pmi'}], 'UDTs': []}\n"
     ]
    }
   ],
   "source": [
    "# establish a connection to TigerGraph and load clickbait data graph\n",
    "graph = tg.TigerGraphConnection(     \n",
    "    host=config['host'],\n",
    "    graphname=config['graphname'],\n",
    "    gsqlSecret=config['gsqlSecret'])\n",
    "\n",
    "graph.getToken(config['gsqlSecret'])\n",
    "print('------------------------------------------------------------------------------')\n",
    "\n",
    "# summary statistics and schema of the graph\n",
    "n_edges = graph.getEdgeCount()['pmi']\n",
    "n_verticies = graph.getVertexCount('word')\n",
    "edge_stats = graph.getEdgeStats('pmi')['pmi']['value']\n",
    "print('The graph has {} edges and {} verticies.'.format(n_edges, n_verticies))\n",
    "print('Edges have a maximum weight of {}, minimum weight of {}, and average weight of {}.'.format(edge_stats['MAX'],\n",
    "                                                                                                  edge_stats['MIN'],\n",
    "                                                                                                  edge_stats['AVG']))\n",
    "print('------------------------------------------------------------------------------')\n",
    "print('Graph Schema: {}'.format(graph.getSchema()))"
   ]
  },
  {
   "cell_type": "markdown",
   "metadata": {},
   "source": [
    "![test](images/graph.png)"
   ]
  },
  {
   "cell_type": "markdown",
   "metadata": {},
   "source": [
    "## 3.1 Creating Graph Convolutional Network"
   ]
  },
  {
   "cell_type": "markdown",
   "metadata": {},
   "source": [
    "Here, we create the GCN. A two-layered GCN appears to work better than deeper networks, and this is further corroborated by the fact [this](https://arxiv.org/abs/1609.02907) paper only used a two-layered one. We also label the wanted and unwanted verticies and setup the optimizer. Since the GCN is a semi-supervised algorithm, we do not label all of the nodes to their correct classes before training.\n",
    "\n",
    "![test](images/text_gcn.png)"
   ]
  },
  {
   "cell_type": "code",
   "execution_count": 5,
   "metadata": {},
   "outputs": [
    {
     "name": "stdout",
     "output_type": "stream",
     "text": [
      "(23040, 300) (23040, 2) (6400, 300) (6400, 2) (31950, 300) (31950, 2)\n",
      "38350\n"
     ]
    }
   ],
   "source": [
    "os.chdir('../')\n",
    "\n",
    "# Load data\n",
    "adj, features, y_train, y_val, y_test, train_mask, val_mask, test_mask, train_size, test_size = load_corpus('clickbait')\n",
    "\n",
    "features = sp.identity(features.shape[0]) \n",
    "features = torch_preprocess_features(features)\n",
    "support = [torch_preprocess_adj(adj)]\n",
    "num_supports = 1    \n",
    "    \n",
    "# Define placeholders\n",
    "t_features = torch.from_numpy(features)\n",
    "t_y_train = torch.from_numpy(y_train)\n",
    "t_y_val = torch.from_numpy(y_val)\n",
    "t_y_test = torch.from_numpy(y_test)\n",
    "t_train_mask = torch.from_numpy(train_mask.astype(np.float32))\n",
    "tm_train_mask = torch.transpose(torch.unsqueeze(t_train_mask, 0), 1, 0).repeat(1, y_train.shape[1])\n",
    "\n",
    "t_support = []\n",
    "for i in range(len(support)):\n",
    "    t_support.append(torch.Tensor(support[i]))\n",
    "        \n",
    "model = GCN(input_dim=features.shape[0], support=t_support, num_classes=y_train.shape[1])\n",
    "\n",
    "# Loss and optimizer\n",
    "criterion = nn.CrossEntropyLoss()\n",
    "optimizer = torch.optim.Adam(model.parameters(), lr=learningRate)\n",
    "\n",
    "# Define model evaluation function\n",
    "def evaluate(features, labels, mask):\n",
    "    t_test = time.time()\n",
    "    model.eval()\n",
    "    with torch.no_grad():\n",
    "        logits = model(features)\n",
    "        t_mask = torch.from_numpy(np.array(mask*1., dtype=np.float32))\n",
    "        tm_mask = torch.transpose(torch.unsqueeze(t_mask, 0), 1, 0).repeat(1, labels.shape[1])\n",
    "        loss = criterion(logits * tm_mask, torch.max(labels, 1)[1])\n",
    "        pred = torch.max(logits, 1)[1]\n",
    "        acc = ((pred == torch.max(labels, 1)[1]).float() * t_mask).sum().item() / t_mask.sum().item()\n",
    "    return loss.numpy(), acc, pred.numpy(), labels.numpy(), (time.time() - t_test)"
   ]
  },
  {
   "cell_type": "markdown",
   "metadata": {},
   "source": [
    "## 3.2 Training Loop"
   ]
  },
  {
   "cell_type": "markdown",
   "metadata": {},
   "source": [
    "Below is the training loop that trains the GCN. Unlike many traditional deep learning architectures, GCNs don't always need that much training or as large of data sets due to their exploitation of the *structure* of the data, as opposed to only the features of the data."
   ]
  },
  {
   "cell_type": "code",
   "execution_count": 6,
   "metadata": {},
   "outputs": [
    {
     "name": "stdout",
     "output_type": "stream",
     "text": [
      "Epoch: 1, train_loss= 0.70932, train_acc= 0.52313, val_loss= 0.67550, val_acc= 0.90859, time= 52.51760\n",
      "Epoch: 2, train_loss= 0.53416, train_acc= 0.90599, val_loss= 0.66517, val_acc= 0.94531, time= 49.85001\n",
      "Epoch: 3, train_loss= 0.43909, train_acc= 0.95035, val_loss= 0.65976, val_acc= 0.95156, time= 51.17712\n",
      "Epoch: 4, train_loss= 0.38791, train_acc= 0.96042, val_loss= 0.65698, val_acc= 0.95703, time= 51.13026\n",
      "Epoch: 5, train_loss= 0.36038, train_acc= 0.96398, val_loss= 0.65553, val_acc= 0.95664, time= 52.11927\n",
      "Epoch: 6, train_loss= 0.34495, train_acc= 0.96654, val_loss= 0.65476, val_acc= 0.95859, time= 53.17798\n",
      "Epoch: 7, train_loss= 0.33573, train_acc= 0.96814, val_loss= 0.65436, val_acc= 0.95859, time= 56.67760\n",
      "Epoch: 8, train_loss= 0.32976, train_acc= 0.96992, val_loss= 0.65414, val_acc= 0.95859, time= 56.80989\n",
      "Epoch: 9, train_loss= 0.32550, train_acc= 0.97127, val_loss= 0.65404, val_acc= 0.95937, time= 57.36309\n",
      "Epoch: 10, train_loss= 0.32220, train_acc= 0.97244, val_loss= 0.65401, val_acc= 0.95937, time= 56.61192\n",
      "Epoch: 11, train_loss= 0.31959, train_acc= 0.97422, val_loss= 0.65402, val_acc= 0.95898, time= 55.36597\n",
      "Epoch: 12, train_loss= 0.31741, train_acc= 0.97522, val_loss= 0.65405, val_acc= 0.95977, time= 61.13640\n",
      "Epoch: 13, train_loss= 0.31546, train_acc= 0.97687, val_loss= 0.65410, val_acc= 0.96055, time= 54.47979\n",
      "Epoch: 14, train_loss= 0.31362, train_acc= 0.97804, val_loss= 0.65416, val_acc= 0.96094, time= 52.55576\n",
      "Epoch: 15, train_loss= 0.31183, train_acc= 0.97934, val_loss= 0.65423, val_acc= 0.96172, time= 54.72360\n",
      "Epoch: 16, train_loss= 0.31009, train_acc= 0.98047, val_loss= 0.65430, val_acc= 0.96133, time= 56.10897\n",
      "Early stopping...\n",
      "Optimization Finished!\n"
     ]
    }
   ],
   "source": [
    "epochs = []\n",
    "train_losses = []\n",
    "train_accs = []\n",
    "val_losses = []\n",
    "val_accs = []\n",
    "\n",
    "# Train model\n",
    "for epoch in range(n_epochs):\n",
    "    t = time.time()\n",
    "\n",
    "    # Forward pass\n",
    "    logits = model(t_features)\n",
    "    loss = criterion(logits * tm_train_mask, torch.max(t_y_train, 1)[1])    \n",
    "    acc = ((torch.max(logits, 1)[1] == torch.max(t_y_train, 1)[1]).float() * t_train_mask).sum().item() / t_train_mask.sum().item()\n",
    "        \n",
    "    # Backward and optimize\n",
    "    optimizer.zero_grad()\n",
    "    loss.backward()\n",
    "    optimizer.step()\n",
    "\n",
    "    # Validation\n",
    "    val_loss, val_acc, pred, labels, duration = evaluate(t_features, t_y_val, val_mask)\n",
    "    val_losses.append(val_loss)\n",
    "    epochs.append(epoch + 1)\n",
    "    train_losses.append(loss)\n",
    "    train_accs.append(acc)\n",
    "    val_accs.append(val_acc)\n",
    "    print(\"Epoch: {:.0f}, train_loss= {:.5f}, train_acc= {:.5f}, val_loss= {:.5f}, val_acc= {:.5f}, time= {:.5f}\"\\\n",
    "                .format(epoch + 1, loss, acc, val_loss, val_acc, time.time() - t))\n",
    "    \n",
    "    # Early Stopping\n",
    "    if epoch > early_stopping and val_losses[-1] > np.mean(val_losses[-(early_stopping+1):-1]):\n",
    "        print(\"Early stopping...\")\n",
    "        break\n",
    "\n",
    "print(\"Optimization Finished!\")"
   ]
  },
  {
   "cell_type": "code",
   "execution_count": 7,
   "metadata": {},
   "outputs": [
    {
     "data": {
      "image/png": "[encoded data removed]",
      "text/plain": [
       "<Figure size 432x288 with 1 Axes>"
      ]
     },
     "metadata": {
      "needs_background": "light"
     },
     "output_type": "display_data"
    }
   ],
   "source": [
    "# Visualize training, testing, validation curves\n",
    "plt.plot(epochs, train_losses, label = \"training loss\")\n",
    "plt.plot(epochs, train_accs, label = \"training accuracy\")\n",
    "plt.plot(epochs, val_losses, label = \"validation loss\")\n",
    "plt.plot(epochs, val_accs, label = \"validation accuracy\")\n",
    "plt.legend()\n",
    "plt.legend(bbox_to_anchor=(1, 0.58))\n",
    "plt.xlabel(\"Epoch\")\n",
    "plt.show()"
   ]
  },
  {
   "cell_type": "markdown",
   "metadata": {},
   "source": [
    "## 3.4 Testing Accuracy"
   ]
  },
  {
   "cell_type": "markdown",
   "metadata": {},
   "source": [
    "Here is the code that processes the GCN's results and calculates the accuracy based off the verticies that the user has reviewed, but were not labelled in the graph for the GCN to use. While this accuracy is pretty mediocre, the GCN does make predictions based off of movies sharing the same genre, and therefore with better data, there could be (and almost certainly would be) an improvement in accuracy."
   ]
  },
  {
   "cell_type": "code",
   "execution_count": 8,
   "metadata": {},
   "outputs": [
    {
     "name": "stdout",
     "output_type": "stream",
     "text": [
      "Test set results: \n",
      "\t loss= 0.59612, accuracy= 0.96344, time= 18.46231\n",
      "Test Precision, Recall and F1-Score...\n",
      "              precision    recall  f1-score   support\n",
      "\n",
      "           0     0.9611    0.9659    0.9635      3199\n",
      "           1     0.9658    0.9609    0.9634      3201\n",
      "\n",
      "    accuracy                         0.9634      6400\n",
      "   macro avg     0.9634    0.9634    0.9634      6400\n",
      "weighted avg     0.9634    0.9634    0.9634      6400\n",
      "\n",
      "Macro average Test Precision, Recall and F1-Score...\n",
      "(0.9634484156146009, 0.9634382776795193, 0.9634373250418874, None)\n",
      "Micro average Test Precision, Recall and F1-Score...\n",
      "(0.9634375, 0.9634375, 0.9634375, None)\n"
     ]
    }
   ],
   "source": [
    "# Testing\n",
    "test_loss, test_acc, pred, labels, test_duration = evaluate(t_features, t_y_test, test_mask)\n",
    "print(\"Test set results: \\n\\t loss= {:.5f}, accuracy= {:.5f}, time= {:.5f}\".format(test_loss, test_acc, test_duration))\n",
    "\n",
    "test_pred = []\n",
    "test_labels = []\n",
    "for i in range(len(test_mask)):\n",
    "    if test_mask[i]:\n",
    "        test_pred.append(pred[i])\n",
    "        test_labels.append(np.argmax(labels[i]))\n",
    "\n",
    "print(\"Test Precision, Recall and F1-Score...\")\n",
    "print(metrics.classification_report(test_labels, test_pred, digits=4))\n",
    "print(\"Macro average Test Precision, Recall and F1-Score...\")\n",
    "print(metrics.precision_recall_fscore_support(test_labels, test_pred, average='macro'))\n",
    "print(\"Micro average Test Precision, Recall and F1-Score...\")\n",
    "print(metrics.precision_recall_fscore_support(test_labels, test_pred, average='micro'))"
   ]
  },
  {
   "cell_type": "markdown",
   "metadata": {},
   "source": [
    "## 3.5 Outputs "
   ]
  },
  {
   "cell_type": "markdown",
   "metadata": {},
   "source": [
    "**Classification Output:**\n",
    "\n",
    "![classification](images/classification.png)\n",
    "\n",
    "\n",
    "**TSNE Projections of Word Embeddings:**\n",
    "\n",
    "![words](images/words.png)"
   ]
  },
  {
   "cell_type": "markdown",
   "metadata": {},
   "source": [
    "## 4.1 Comparison to CNN"
   ]
  },
  {
   "cell_type": "markdown",
   "metadata": {},
   "source": [
    "Here we will Text GCN's performance to a traditional CNN for text classification on the clickbait dataset."
   ]
  },
  {
   "cell_type": "code",
   "execution_count": 9,
   "metadata": {},
   "outputs": [
    {
     "data": {
      "text/html": [
       "<div>\n",
       "<style scoped>\n",
       "    .dataframe tbody tr th:only-of-type {\n",
       "        vertical-align: middle;\n",
       "    }\n",
       "\n",
       "    .dataframe tbody tr th {\n",
       "        vertical-align: top;\n",
       "    }\n",
       "\n",
       "    .dataframe thead th {\n",
       "        text-align: right;\n",
       "    }\n",
       "</style>\n",
       "<table border=\"1\" class=\"dataframe\">\n",
       "  <thead>\n",
       "    <tr style=\"text-align: right;\">\n",
       "      <th></th>\n",
       "      <th>headline</th>\n",
       "      <th>clickbait</th>\n",
       "    </tr>\n",
       "  </thead>\n",
       "  <tbody>\n",
       "    <tr>\n",
       "      <th>0</th>\n",
       "      <td>cable industry starts regret putting free show...</td>\n",
       "      <td>0</td>\n",
       "    </tr>\n",
       "    <tr>\n",
       "      <th>1</th>\n",
       "      <td>film director sydney dies age 73</td>\n",
       "      <td>0</td>\n",
       "    </tr>\n",
       "    <tr>\n",
       "      <th>2</th>\n",
       "      <td>law delay university minnesota strike</td>\n",
       "      <td>0</td>\n",
       "    </tr>\n",
       "    <tr>\n",
       "      <th>3</th>\n",
       "      <td>pop artist producer duo</td>\n",
       "      <td>1</td>\n",
       "    </tr>\n",
       "    <tr>\n",
       "      <th>4</th>\n",
       "      <td>18 facts make indian feel old</td>\n",
       "      <td>1</td>\n",
       "    </tr>\n",
       "  </tbody>\n",
       "</table>\n",
       "</div>"
      ],
      "text/plain": [
       "                                            headline  clickbait\n",
       "0  cable industry starts regret putting free show...          0\n",
       "1                   film director sydney dies age 73          0\n",
       "2              law delay university minnesota strike          0\n",
       "3                            pop artist producer duo          1\n",
       "4                      18 facts make indian feel old          1"
      ]
     },
     "execution_count": 9,
     "metadata": {},
     "output_type": "execute_result"
    }
   ],
   "source": [
    "# Load clickbait data\n",
    "df = pd.read_csv('data/output/clickbait_data_cleaned.csv')\n",
    "df.head()"
   ]
  },
  {
   "cell_type": "code",
   "execution_count": 10,
   "metadata": {},
   "outputs": [
    {
     "name": "stdout",
     "output_type": "stream",
     "text": [
      "Epoch 1/20, Train Loss: 0.488385,             Test Loss: 0.367134\n",
      "Epoch 2/20, Train Loss: 0.272153,             Test Loss: 0.276852\n",
      "Epoch 3/20, Train Loss: 0.184349,             Test Loss: 0.243725\n",
      "Epoch 4/20, Train Loss: 0.137983,             Test Loss: 0.237033\n",
      "Epoch 5/20, Train Loss: 0.104893,             Test Loss: 0.225442\n",
      "Epoch 6/20, Train Loss: 0.082078,             Test Loss: 0.215255\n",
      "Epoch 7/20, Train Loss: 0.066412,             Test Loss: 0.274536\n",
      "Epoch 8/20, Train Loss: 0.052067,             Test Loss: 0.274750\n",
      "Epoch 9/20, Train Loss: 0.041856,             Test Loss: 0.241467\n",
      "Epoch 10/20, Train Loss: 0.032492,             Test Loss: 0.275807\n",
      "Epoch 11/20, Train Loss: 0.027101,             Test Loss: 0.270331\n",
      "Epoch 12/20, Train Loss: 0.023725,             Test Loss: 0.348369\n",
      "Epoch 13/20, Train Loss: 0.019788,             Test Loss: 0.344071\n",
      "Epoch 14/20, Train Loss: 0.017883,             Test Loss: 0.335663\n",
      "Epoch 15/20, Train Loss: 0.013382,             Test Loss: 0.329245\n",
      "Epoch 16/20, Train Loss: 0.013717,             Test Loss: 0.390464\n",
      "Epoch 17/20, Train Loss: 0.010913,             Test Loss: 0.406820\n",
      "Epoch 18/20, Train Loss: 0.010611,             Test Loss: 0.429732\n",
      "Epoch 19/20, Train Loss: 0.008954,             Test Loss: 0.420039\n",
      "Epoch 20/20, Train Loss: 0.009386,             Test Loss: 0.392992\n"
     ]
    }
   ],
   "source": [
    "# Build train and test datasets\n",
    "TEXT = ttd.Field(sequential=True,batch_first=True,lower=False,pad_first=True)\n",
    "LABEL = ttd.Field(sequential=False,use_vocab=False,is_target=True)\n",
    "dataset = ttd.TabularDataset(path='data/output/clickbait_data_cleaned.csv',\n",
    "                             format='csv',\n",
    "                             skip_header=True,\n",
    "                             fields=[('data',TEXT),('label',LABEL)])\n",
    "\n",
    "train_dataset, test_dataset = dataset.split()\n",
    "TEXT.build_vocab(train_dataset,)\n",
    "vocab = TEXT.vocab\n",
    "device = torch.device(\"cuda:0\" if torch.cuda.is_available() else \"cpu\")\n",
    "train_iter, test_iter = ttd.Iterator.splits((train_dataset, test_dataset),\n",
    "                                            sort_key=lambda x: len(x.data),\n",
    "                                            batch_sizes=(32,256),\n",
    "                                            device=device)\n",
    "# Define the model\n",
    "model = CNN(len(vocab),20,1)\n",
    "model.to(device)\n",
    "\n",
    "# Loss and optimizer\n",
    "criterion = nn.BCEWithLogitsLoss()\n",
    "optimizer = torch.optim.Adam(model.parameters())\n",
    "\n",
    "# Train model using batch gradient descent\n",
    "train_losses, test_losses = torch_batch_gd(model,criterion,optimizer,train_iter,test_iter, 20)"
   ]
  },
  {
   "cell_type": "code",
   "execution_count": 11,
   "metadata": {},
   "outputs": [
    {
     "data": {
      "image/png": "[encoded data removed]",
      "text/plain": [
       "<Figure size 432x288 with 1 Axes>"
      ]
     },
     "metadata": {
      "needs_background": "light"
     },
     "output_type": "display_data"
    }
   ],
   "source": [
    "# Plot the train loss and test loss per iteration\n",
    "plt.plot(train_losses,label='train loss')\n",
    "plt.plot(test_losses,label='test loss')\n",
    "plt.xlabel(\"Epoch\")\n",
    "plt.legend()\n",
    "plt.show()"
   ]
  },
  {
   "cell_type": "code",
   "execution_count": 12,
   "metadata": {},
   "outputs": [
    {
     "name": "stdout",
     "output_type": "stream",
     "text": [
      "Train acc: 0.997321, Test acc: 0.932396\n"
     ]
    }
   ],
   "source": [
    "# Final Model's Training and Testing Accuracy\n",
    "n_correct = 0\n",
    "n_total = 0\n",
    "for inputs, targets in train_iter:\n",
    "    targets = targets.view(-1,1).float()\n",
    "    outputs = model(inputs)\n",
    "    predictions = (outputs > 0)\n",
    "    n_correct += (predictions == targets).sum().item()\n",
    "    n_total += targets.shape[0]\n",
    "\n",
    "train_acc = n_correct / n_total\n",
    "n_correct = 0\n",
    "n_total = 0\n",
    "for inputs, targets in test_iter:\n",
    "    targets = targets.view(-1,1).float()\n",
    "    outputs = model(inputs)\n",
    "    predictions = (outputs > 0)\n",
    "    n_correct += (predictions == targets).sum().item()\n",
    "    n_total += targets.shape[0]\n",
    "test_acc = n_correct / n_total\n",
    "print(f\"Train acc: {train_acc:4f}, Test acc: {test_acc:4f}\")"
   ]
  },
  {
   "cell_type": "markdown",
   "metadata": {},
   "source": [
    "Compared to Text GCN, our CNN is overfit to its training data and has a resultant worse testing accuracy. CNN's performance for text classification tasks can be improved with more hidden layers, however, we find Text GCN performs better than CNN for text classification, when this task is framed as a node classification problem."
   ]
  }
 ],
 "metadata": {
  "kernelspec": {
   "display_name": "Python 3",
   "language": "python",
   "name": "python3"
  },
  "language_info": {
   "codemirror_mode": {
    "name": "ipython",
    "version": 3
   },
   "file_extension": ".py",
   "mimetype": "text/x-python",
   "name": "python",
   "nbconvert_exporter": "python",
   "pygments_lexer": "ipython3",
   "version": "3.7.6"
  },
  "vscode": {
   "interpreter": {
    "hash": "c0f44f62e573cea88b6a9cab083f0e4138e145194b4edc39d4088f7de387635d"
   }
  }
 },
 "nbformat": 4,
 "nbformat_minor": 4
}
